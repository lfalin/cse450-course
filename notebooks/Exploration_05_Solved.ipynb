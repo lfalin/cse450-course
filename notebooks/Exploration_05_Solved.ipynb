{
  "nbformat": 4,
  "nbformat_minor": 0,
  "metadata": {
    "colab": {
      "name": "Exploration-05-Solved.ipynb",
      "provenance": [],
      "authorship_tag": "ABX9TyPpndh8crScL2mdl39EAgz2"
    },
    "kernelspec": {
      "name": "python3",
      "display_name": "Python 3"
    }
  },
  "cells": [
    {
      "cell_type": "markdown",
      "metadata": {
        "id": "ferRqThzfTTg"
      },
      "source": [
        "# Covid 19 Probabilities\n",
        "\n",
        "The data analyst firm you work for has been contracted by a local Health Authority to conduct a risk assessment of Covid-19.\n",
        "\n",
        "Your research supervisor has asked you to use the latest CDC case data to preform a Bayesian analysis to calculate the probability of death from Covid-19 among certain demographics."
      ]
    },
    {
      "cell_type": "markdown",
      "metadata": {
        "id": "7T2v_mBtgmOZ"
      },
      "source": [
        "# Part 1 - Download data\n",
        "In order to import the data from the CDC, you'll first need to install a python library to give you access to the Socrata API used by the CDC:\n",
        "\n",
        "    !pip install sodapy\n",
        "\n",
        "After that, you'll need to import the latest Covid-19 case data. For an example of how to do so, visit the [Socrata CDC API Site for the Covid-19 case data](https://dev.socrata.com/foundry/data.cdc.gov/vbim-akqf/), scroll down to the section labeled `Code Snippets`, and click on the `Python Pandas` tab.\n",
        "\n",
        "*Some things to note:*\n",
        "\n",
        "* Since this is public data, you do not need to use an authentication token. \n",
        "\n",
        "* Instead of fetching 2,000 records as in the example, set your limit to 3,000,000 records. This will retrieve approximately 3/4 of the data.\n",
        "\n",
        "* You can name your variables whatever you want. For example, when converting the data into a dataframe, you could do:\n",
        "\n",
        "\n",
        "    cases = pd.DataFrame.from_records(results)\n",
        "\n",
        "* With that many records, it will take a bit of time to download. Be careful to put the download command in a separate code cell from the rest of your analysis work, so that Colab doesn't rerun the download command everytime you make a change to your analysis."
      ]
    },
    {
      "cell_type": "code",
      "metadata": {
        "id": "iucCTDLijjZl",
        "outputId": "b60ebe50-bcdc-4fa6-c572-df21b776941b",
        "colab": {
          "base_uri": "https://localhost:8080/",
          "height": 187
        }
      },
      "source": [
        "# Install sodapy and import libraries\n",
        "!pip install sodapy\n",
        "from sodapy import Socrata\n",
        "import pandas as pd\n",
        "\n",
        "# Import data from CDC and convert to a pandas dataframe\n",
        "client = Socrata(\"data.cdc.gov\", None)\n",
        "results = client.get(\"vbim-akqf\", limit=3000000)\n",
        "\n",
        "cases = pd.DataFrame.from_records(results)"
      ],
      "execution_count": 1,
      "outputs": [
        {
          "output_type": "stream",
          "text": [
            "Collecting sodapy\n",
            "  Downloading https://files.pythonhosted.org/packages/9e/74/95fb7d45bbe7f1de43caac45d7dd4807ef1e15881564a00eef489a3bb5c6/sodapy-2.1.0-py2.py3-none-any.whl\n",
            "Requirement already satisfied: requests>=2.20.0 in /usr/local/lib/python3.6/dist-packages (from sodapy) (2.23.0)\n",
            "Requirement already satisfied: urllib3!=1.25.0,!=1.25.1,<1.26,>=1.21.1 in /usr/local/lib/python3.6/dist-packages (from requests>=2.20.0->sodapy) (1.24.3)\n",
            "Requirement already satisfied: idna<3,>=2.5 in /usr/local/lib/python3.6/dist-packages (from requests>=2.20.0->sodapy) (2.10)\n",
            "Requirement already satisfied: certifi>=2017.4.17 in /usr/local/lib/python3.6/dist-packages (from requests>=2.20.0->sodapy) (2020.6.20)\n",
            "Requirement already satisfied: chardet<4,>=3.0.2 in /usr/local/lib/python3.6/dist-packages (from requests>=2.20.0->sodapy) (3.0.4)\n",
            "Installing collected packages: sodapy\n",
            "Successfully installed sodapy-2.1.0\n"
          ],
          "name": "stdout"
        },
        {
          "output_type": "stream",
          "text": [
            "WARNING:root:Requests made without an app_token will be subject to strict throttling limits.\n"
          ],
          "name": "stderr"
        }
      ]
    },
    {
      "cell_type": "markdown",
      "metadata": {
        "id": "OGOGWKLUj_QH"
      },
      "source": [
        "### Initial data analysis\n",
        "Once you have imported the data, perform a brief analysis to become familiar with the data.\n"
      ]
    },
    {
      "cell_type": "code",
      "metadata": {
        "id": "OKy4tDgdj7y8",
        "outputId": "a589dac2-5df6-4505-e983-aa6e65273f03",
        "colab": {
          "base_uri": "https://localhost:8080/",
          "height": 510
        }
      },
      "source": [
        "# Initial data analysis\n",
        "cases.info()\n",
        "cases.head()"
      ],
      "execution_count": 2,
      "outputs": [
        {
          "output_type": "stream",
          "text": [
            "<class 'pandas.core.frame.DataFrame'>\n",
            "RangeIndex: 3000000 entries, 0 to 2999999\n",
            "Data columns (total 11 columns):\n",
            " #   Column                   Dtype \n",
            "---  ------                   ----- \n",
            " 0   cdc_report_dt            object\n",
            " 1   pos_spec_dt              object\n",
            " 2   current_status           object\n",
            " 3   sex                      object\n",
            " 4   age_group                object\n",
            " 5   race_ethnicity_combined  object\n",
            " 6   hosp_yn                  object\n",
            " 7   icu_yn                   object\n",
            " 8   death_yn                 object\n",
            " 9   medcond_yn               object\n",
            " 10  onset_dt                 object\n",
            "dtypes: object(11)\n",
            "memory usage: 251.8+ MB\n"
          ],
          "name": "stdout"
        },
        {
          "output_type": "execute_result",
          "data": {
            "text/html": [
              "<div>\n",
              "<style scoped>\n",
              "    .dataframe tbody tr th:only-of-type {\n",
              "        vertical-align: middle;\n",
              "    }\n",
              "\n",
              "    .dataframe tbody tr th {\n",
              "        vertical-align: top;\n",
              "    }\n",
              "\n",
              "    .dataframe thead th {\n",
              "        text-align: right;\n",
              "    }\n",
              "</style>\n",
              "<table border=\"1\" class=\"dataframe\">\n",
              "  <thead>\n",
              "    <tr style=\"text-align: right;\">\n",
              "      <th></th>\n",
              "      <th>cdc_report_dt</th>\n",
              "      <th>pos_spec_dt</th>\n",
              "      <th>current_status</th>\n",
              "      <th>sex</th>\n",
              "      <th>age_group</th>\n",
              "      <th>race_ethnicity_combined</th>\n",
              "      <th>hosp_yn</th>\n",
              "      <th>icu_yn</th>\n",
              "      <th>death_yn</th>\n",
              "      <th>medcond_yn</th>\n",
              "      <th>onset_dt</th>\n",
              "    </tr>\n",
              "  </thead>\n",
              "  <tbody>\n",
              "    <tr>\n",
              "      <th>0</th>\n",
              "      <td>2020-03-03T00:00:00.000</td>\n",
              "      <td>2020-03-03T00:00:00.000</td>\n",
              "      <td>Laboratory-confirmed case</td>\n",
              "      <td>Male</td>\n",
              "      <td>0 - 9 Years</td>\n",
              "      <td>Unknown</td>\n",
              "      <td>Missing</td>\n",
              "      <td>Missing</td>\n",
              "      <td>Missing</td>\n",
              "      <td>Missing</td>\n",
              "      <td>NaN</td>\n",
              "    </tr>\n",
              "    <tr>\n",
              "      <th>1</th>\n",
              "      <td>2020-03-03T00:00:00.000</td>\n",
              "      <td>2020-03-03T00:00:00.000</td>\n",
              "      <td>Laboratory-confirmed case</td>\n",
              "      <td>Female</td>\n",
              "      <td>0 - 9 Years</td>\n",
              "      <td>Unknown</td>\n",
              "      <td>Missing</td>\n",
              "      <td>Missing</td>\n",
              "      <td>Missing</td>\n",
              "      <td>Missing</td>\n",
              "      <td>NaN</td>\n",
              "    </tr>\n",
              "    <tr>\n",
              "      <th>2</th>\n",
              "      <td>2020-04-07T00:00:00.000</td>\n",
              "      <td>2020-03-03T00:00:00.000</td>\n",
              "      <td>Laboratory-confirmed case</td>\n",
              "      <td>Unknown</td>\n",
              "      <td>0 - 9 Years</td>\n",
              "      <td>Unknown</td>\n",
              "      <td>No</td>\n",
              "      <td>Missing</td>\n",
              "      <td>Missing</td>\n",
              "      <td>Missing</td>\n",
              "      <td>2020-03-03T00:00:00.000</td>\n",
              "    </tr>\n",
              "    <tr>\n",
              "      <th>3</th>\n",
              "      <td>2020-08-04T00:00:00.000</td>\n",
              "      <td>2020-08-04T00:00:00.000</td>\n",
              "      <td>Probable Case</td>\n",
              "      <td>Male</td>\n",
              "      <td>0 - 9 Years</td>\n",
              "      <td>Unknown</td>\n",
              "      <td>Missing</td>\n",
              "      <td>Missing</td>\n",
              "      <td>Missing</td>\n",
              "      <td>Missing</td>\n",
              "      <td>NaN</td>\n",
              "    </tr>\n",
              "    <tr>\n",
              "      <th>4</th>\n",
              "      <td>2020-07-28T00:00:00.000</td>\n",
              "      <td>2020-08-04T00:00:00.000</td>\n",
              "      <td>Laboratory-confirmed case</td>\n",
              "      <td>Male</td>\n",
              "      <td>0 - 9 Years</td>\n",
              "      <td>Unknown</td>\n",
              "      <td>No</td>\n",
              "      <td>No</td>\n",
              "      <td>No</td>\n",
              "      <td>Missing</td>\n",
              "      <td>2020-07-28T00:00:00.000</td>\n",
              "    </tr>\n",
              "  </tbody>\n",
              "</table>\n",
              "</div>"
            ],
            "text/plain": [
              "             cdc_report_dt  ...                 onset_dt\n",
              "0  2020-03-03T00:00:00.000  ...                      NaN\n",
              "1  2020-03-03T00:00:00.000  ...                      NaN\n",
              "2  2020-04-07T00:00:00.000  ...  2020-03-03T00:00:00.000\n",
              "3  2020-08-04T00:00:00.000  ...                      NaN\n",
              "4  2020-07-28T00:00:00.000  ...  2020-07-28T00:00:00.000\n",
              "\n",
              "[5 rows x 11 columns]"
            ]
          },
          "metadata": {
            "tags": []
          },
          "execution_count": 2
        }
      ]
    },
    {
      "cell_type": "markdown",
      "metadata": {
        "id": "4nx7Hdmxkntb"
      },
      "source": [
        "# Part 2 - Age Demographics\n",
        "\n",
        "The research director would like you to start by doing a simple age-based risk assessment. To do so, complete the following tasks:\n",
        "\n",
        "* First, check to see [how many samples there are in each age bracket](https://pandas.pydata.org/pandas-docs/stable/getting_started/intro_tutorials/06_calculate_statistics.html#count-number-of-records-by-category).\n",
        "* Next, [filter out any records](https://pandas.pydata.org/pandas-docs/stable/getting_started/intro_tutorials/03_subset_data.html#how-do-i-filter-specific-rows-from-a-dataframe) that have the values `NA` or `Unknown` for the `age_group` column, and check the counts again.  (You may find this task easier if you use a \"negation\" of the `isin()` function, as [discussed here](https://stackoverflow.com/questions/19960077/how-to-filter-pandas-dataframe-using-in-and-not-in-like-in-sql).\n"
      ]
    },
    {
      "cell_type": "code",
      "metadata": {
        "id": "MKIYffbIq3sM",
        "outputId": "eb2e66ae-704a-4c18-e9e8-3dfeff854d3e",
        "colab": {
          "base_uri": "https://localhost:8080/",
          "height": 221
        }
      },
      "source": [
        "# See what the values are\n",
        "cases['age_group'].value_counts()"
      ],
      "execution_count": 3,
      "outputs": [
        {
          "output_type": "execute_result",
          "data": {
            "text/plain": [
              "20 - 29 Years    614735\n",
              "40 - 49 Years    580660\n",
              "50 - 59 Years    564999\n",
              "60 - 69 Years    380136\n",
              "10 - 19 Years    234374\n",
              "30 - 39 Years    219768\n",
              "80+ Years        206172\n",
              "0 - 9 Years      108318\n",
              "70 - 79 Years     86698\n",
              "Unknown            4046\n",
              "NA                   94\n",
              "Name: age_group, dtype: int64"
            ]
          },
          "metadata": {
            "tags": []
          },
          "execution_count": 3
        }
      ]
    },
    {
      "cell_type": "code",
      "metadata": {
        "id": "I14J0UjykOxJ",
        "outputId": "f65c6d88-4736-42c0-b9a3-3209e1ed6b25",
        "colab": {
          "base_uri": "https://localhost:8080/",
          "height": 187
        }
      },
      "source": [
        "# Filter out rows with missing age group values\n",
        "filtered = cases.loc[ ~cases['age_group'].isin(['NA', 'Unknown']) ]\n",
        "\n",
        "# Check the updated counts\n",
        "\n",
        "# Using sort_index() here to sort by the value names, could also use sort_values()\n",
        "# to sort by the counts, but that is done by default.\n",
        "filtered['age_group'].value_counts().sort_index()"
      ],
      "execution_count": 4,
      "outputs": [
        {
          "output_type": "execute_result",
          "data": {
            "text/plain": [
              "0 - 9 Years      108318\n",
              "10 - 19 Years    234374\n",
              "20 - 29 Years    614735\n",
              "30 - 39 Years    219768\n",
              "40 - 49 Years    580660\n",
              "50 - 59 Years    564999\n",
              "60 - 69 Years    380136\n",
              "70 - 79 Years     86698\n",
              "80+ Years        206172\n",
              "Name: age_group, dtype: int64"
            ]
          },
          "metadata": {
            "tags": []
          },
          "execution_count": 4
        }
      ]
    },
    {
      "cell_type": "markdown",
      "metadata": {
        "id": "hcOF5YM6o3f8"
      },
      "source": [
        "### Additional Cleanup\n",
        "The research director tells you that you're going to be primarily working answer questions regarding age (`age_group`), pre-existing medical conditions (`medcond_yn`), and whether or not the patient died (`death_yn`). \n",
        "\n",
        "You've alread filtered out rows that were missing data for the `age_group` column, now check for missing values in the other two columns you'll be working with, then filter the data as needed, and see how many samples that leaves in the data set.\n",
        "\n",
        "* Make sure you start with the filtered dataset, not the original.\n",
        "* Make sure you pay attention to which values represent missing or unknown data for each column and filter accordingly."
      ]
    },
    {
      "cell_type": "code",
      "metadata": {
        "id": "yXfXEh3hoV1E",
        "outputId": "9244d867-0cb9-4423-d508-0ed8a4db4891",
        "colab": {
          "base_uri": "https://localhost:8080/",
          "height": 102
        }
      },
      "source": [
        "# Perform additional filtering\n",
        "\n",
        "# See what we have first\n",
        "filtered['death_yn'].value_counts()"
      ],
      "execution_count": 5,
      "outputs": [
        {
          "output_type": "execute_result",
          "data": {
            "text/plain": [
              "No         1332433\n",
              "Missing     993176\n",
              "Unknown     563791\n",
              "Yes         106460\n",
              "Name: death_yn, dtype: int64"
            ]
          },
          "metadata": {
            "tags": []
          },
          "execution_count": 5
        }
      ]
    },
    {
      "cell_type": "code",
      "metadata": {
        "id": "Go8nCsbZqkt_",
        "outputId": "3ef6c194-d12d-47c7-a695-5bd8f1f7fcc1",
        "colab": {
          "base_uri": "https://localhost:8080/",
          "height": 102
        }
      },
      "source": [
        "filtered['medcond_yn'].value_counts()"
      ],
      "execution_count": 6,
      "outputs": [
        {
          "output_type": "execute_result",
          "data": {
            "text/plain": [
              "Missing    1853372\n",
              "Unknown     452990\n",
              "Yes         428873\n",
              "No          260625\n",
              "Name: medcond_yn, dtype: int64"
            ]
          },
          "metadata": {
            "tags": []
          },
          "execution_count": 6
        }
      ]
    },
    {
      "cell_type": "code",
      "metadata": {
        "id": "6jWzmq6jp5Nv",
        "outputId": "801bf574-e3fa-4759-835a-4c576e789fe8",
        "colab": {
          "base_uri": "https://localhost:8080/",
          "height": 187
        }
      },
      "source": [
        "# Do additional filtering\n",
        "filtered = filtered.loc[ ~filtered['death_yn'].isin(['Missing', 'Unknown']) ]\n",
        "filtered = filtered.loc[ ~filtered['medcond_yn'].isin(['Missing', 'Unknown']) ]\n",
        "\n",
        "# See how many entries we have left\n",
        "filtered[['age_group', 'medcond_yn', 'death_yn']].info()"
      ],
      "execution_count": 7,
      "outputs": [
        {
          "output_type": "stream",
          "text": [
            "<class 'pandas.core.frame.DataFrame'>\n",
            "Int64Index: 482396 entries, 25 to 2999999\n",
            "Data columns (total 3 columns):\n",
            " #   Column      Non-Null Count   Dtype \n",
            "---  ------      --------------   ----- \n",
            " 0   age_group   482396 non-null  object\n",
            " 1   medcond_yn  482396 non-null  object\n",
            " 2   death_yn    482396 non-null  object\n",
            "dtypes: object(3)\n",
            "memory usage: 14.7+ MB\n"
          ],
          "name": "stdout"
        }
      ]
    },
    {
      "cell_type": "markdown",
      "metadata": {
        "id": "gwl81MLurby-"
      },
      "source": [
        "# Part 3 - Probabilities\n",
        "\n",
        "Your research director would now like you to calculate the probability that someone in a given age demographic will die, given that they have Covid-19.\n",
        "\n",
        "Use the [`crosstab()` function](https://pandas.pydata.org/pandas-docs/stable/user_guide/reshaping.html#cross-tabulations) to answer this qustion. You may find [this guide](https://pbpython.com/pandas-crosstab.html) useful.\n",
        "\n",
        "* Be careful how your normalize...we want the probabilties within each age group.\n",
        "\n",
        "\n"
      ]
    },
    {
      "cell_type": "code",
      "metadata": {
        "id": "fsPoKu2crDFv",
        "outputId": "f6ffbfec-4b12-4b85-e4f7-3a1b0c5e1a28",
        "colab": {
          "base_uri": "https://localhost:8080/",
          "height": 142
        }
      },
      "source": [
        "# Use the crosstab function to calcuate the probabilties \n",
        "summary = pd.crosstab(filtered['death_yn'], filtered['age_group'], margins=True, normalize='columns')\n",
        "summary"
      ],
      "execution_count": 8,
      "outputs": [
        {
          "output_type": "execute_result",
          "data": {
            "text/html": [
              "<div>\n",
              "<style scoped>\n",
              "    .dataframe tbody tr th:only-of-type {\n",
              "        vertical-align: middle;\n",
              "    }\n",
              "\n",
              "    .dataframe tbody tr th {\n",
              "        vertical-align: top;\n",
              "    }\n",
              "\n",
              "    .dataframe thead th {\n",
              "        text-align: right;\n",
              "    }\n",
              "</style>\n",
              "<table border=\"1\" class=\"dataframe\">\n",
              "  <thead>\n",
              "    <tr style=\"text-align: right;\">\n",
              "      <th>age_group</th>\n",
              "      <th>0 - 9 Years</th>\n",
              "      <th>10 - 19 Years</th>\n",
              "      <th>20 - 29 Years</th>\n",
              "      <th>30 - 39 Years</th>\n",
              "      <th>40 - 49 Years</th>\n",
              "      <th>50 - 59 Years</th>\n",
              "      <th>60 - 69 Years</th>\n",
              "      <th>70 - 79 Years</th>\n",
              "      <th>80+ Years</th>\n",
              "      <th>All</th>\n",
              "    </tr>\n",
              "    <tr>\n",
              "      <th>death_yn</th>\n",
              "      <th></th>\n",
              "      <th></th>\n",
              "      <th></th>\n",
              "      <th></th>\n",
              "      <th></th>\n",
              "      <th></th>\n",
              "      <th></th>\n",
              "      <th></th>\n",
              "      <th></th>\n",
              "      <th></th>\n",
              "    </tr>\n",
              "  </thead>\n",
              "  <tbody>\n",
              "    <tr>\n",
              "      <th>No</th>\n",
              "      <td>0.998715</td>\n",
              "      <td>0.99938</td>\n",
              "      <td>0.997281</td>\n",
              "      <td>0.991997</td>\n",
              "      <td>0.976428</td>\n",
              "      <td>0.937983</td>\n",
              "      <td>0.817037</td>\n",
              "      <td>0.662983</td>\n",
              "      <td>0.414779</td>\n",
              "      <td>0.882319</td>\n",
              "    </tr>\n",
              "    <tr>\n",
              "      <th>Yes</th>\n",
              "      <td>0.001285</td>\n",
              "      <td>0.00062</td>\n",
              "      <td>0.002719</td>\n",
              "      <td>0.008003</td>\n",
              "      <td>0.023572</td>\n",
              "      <td>0.062017</td>\n",
              "      <td>0.182963</td>\n",
              "      <td>0.337017</td>\n",
              "      <td>0.585221</td>\n",
              "      <td>0.117681</td>\n",
              "    </tr>\n",
              "  </tbody>\n",
              "</table>\n",
              "</div>"
            ],
            "text/plain": [
              "age_group  0 - 9 Years  10 - 19 Years  ...  80+ Years       All\n",
              "death_yn                               ...                     \n",
              "No            0.998715        0.99938  ...   0.414779  0.882319\n",
              "Yes           0.001285        0.00062  ...   0.585221  0.117681\n",
              "\n",
              "[2 rows x 10 columns]"
            ]
          },
          "metadata": {
            "tags": []
          },
          "execution_count": 8
        }
      ]
    },
    {
      "cell_type": "markdown",
      "metadata": {
        "id": "B-T6wtgHufes"
      },
      "source": [
        "### Visualize the data\n",
        "\n",
        "Use Pandas' [built in plotting functions](https://pandas.pydata.org/docs/user_guide/visualization.html#bar-plots) to create a stacked bar chart of the crosstab summary.\n",
        "\n",
        "* In order to get a visualization that makes sense, you may first need to [Transpose](https://pandas.pydata.org/pandas-docs/stable/reference/api/pandas.DataFrame.transpose.html) the summary table."
      ]
    },
    {
      "cell_type": "code",
      "metadata": {
        "id": "Fw0bAv_fufKe",
        "outputId": "f760a13c-39e8-4ba6-e296-45893eeff941",
        "colab": {
          "base_uri": "https://localhost:8080/",
          "height": 351
        }
      },
      "source": [
        "# Transpose and plot the summary table as a stacked bar chart\n",
        "\n",
        "summary.T.plot(kind='bar', stacked=True)"
      ],
      "execution_count": 9,
      "outputs": [
        {
          "output_type": "execute_result",
          "data": {
            "text/plain": [
              "<matplotlib.axes._subplots.AxesSubplot at 0x7f41510d69b0>"
            ]
          },
          "metadata": {
            "tags": []
          },
          "execution_count": 9
        },
        {
          "output_type": "display_data",
          "data": {
            "image/png": "[encoded data removed]",
            "text/plain": [
              "<Figure size 432x288 with 1 Axes>"
            ]
          },
          "metadata": {
            "tags": [],
            "needs_background": "light"
          }
        }
      ]
    },
    {
      "cell_type": "markdown",
      "metadata": {
        "id": "Hw9V7yMqtPwA"
      },
      "source": [
        "# Part 4 - Bayesian Prediction\n",
        "\n",
        "Your research director would like you to use a Bayesian Classifier to predict the probability that someone with Covid-19 will die or not, given their age bracket and medical status.\n",
        "\n",
        "You'll be using [SciKit Learn's Bayesian Classifer](https://scikit-learn.org/stable/modules/generated/sklearn.naive_bayes.GaussianNB.html) for this task.\n",
        "\n",
        "Our use of the Bayseian Classifier in SciKit learn will have four steps. As you'll see later in the semester, some machine learning taks involve additional steps:\n",
        "\n",
        "1. Create an instance of the classifer\n",
        "2. Provide the classifier with the data it will use to build its prediction model. This is sometimes called \"fitting\" or \"training\" the model.\n",
        "3. Ask the model to make a prediction by providing it with new data.\n",
        "4. Interpret the prediction.\n",
        "\n",
        "Parts of these steps will be provided for you in this exercise:"
      ]
    },
    {
      "cell_type": "code",
      "metadata": {
        "id": "wmc7vYm5tLQG"
      },
      "source": [
        "# Step 1\n",
        "from sklearn.naive_bayes import GaussianNB\n",
        "classifier = GaussianNB()"
      ],
      "execution_count": 10,
      "outputs": []
    },
    {
      "cell_type": "markdown",
      "metadata": {
        "id": "VPTiDJ_GxIMD"
      },
      "source": [
        "### Train the Classifer\n",
        "Now we need to teach the classifier how to make a prediction based on historic data. In terms of Bayes' Theorem, we are providing the classifier with the data it needs to calculate hte conditional and joint probabilties for a particuar event.\n",
        "\n",
        "One caveat to using most machine learning libraries is that they don't do well with textural feature data. For example, our `age_group` column contains strings indicating the patient's age bracket. The `medcond_yn` column contains strings (\"Yes\" or \"No\") indicating whether the patient had a pre-existing medical condition.\n",
        "\n",
        "Before we can give this data to the classifier, we'll need to \"encode\" it unto numeric form. There are lots of ways to do this, including some built-in ways in SciKit Learn, but for now we'll use the Pandas `map()` function, which we've used before. (If you've forgotten, see the teacher's solution to [Data Exploration 02](https://byui-cse.github.io/cse450-course/module-01/exploration-02.html))\n",
        "\n",
        "Below, the `age_group` column has been encoded into a set of numeric values. You may want to verify using the `value_counts()` function that the counts of the encoded values match up with the originals."
      ]
    },
    {
      "cell_type": "code",
      "metadata": {
        "id": "8M1XLeH6y0-L",
        "outputId": "82c84b1a-d442-4e8d-ed61-30928322fb70",
        "colab": {
          "base_uri": "https://localhost:8080/",
          "height": 187
        }
      },
      "source": [
        "# This code assumes your filtered dataset is stored in a variable called \"filtered\". \n",
        "# If it isn't, you'll need to update the code accordingly.\n",
        "filtered['age_group_encoded'] = filtered['age_group'].map({\n",
        "    '0 - 9 Years' : 0,\n",
        "    '10 - 19 Years' : 1,\n",
        "    '20 - 29 Years' : 2,\n",
        "    '30 - 39 Years' : 3,\n",
        "    '40 - 49 Years' : 4,\n",
        "    '50 - 59 Years' : 5,\n",
        "    '60 - 69 Years' : 6,\n",
        "    '70 - 79 Years' : 7,\n",
        "    '80+ Years': 8})\n",
        "\n",
        "# Compare the below result to filtered['age_group'].value_counts()\n",
        "filtered['age_group_encoded'].value_counts()"
      ],
      "execution_count": 11,
      "outputs": [
        {
          "output_type": "execute_result",
          "data": {
            "text/plain": [
              "5    86605\n",
              "4    81114\n",
              "2    73551\n",
              "6    60821\n",
              "3    60230\n",
              "8    48110\n",
              "1    29043\n",
              "7    28141\n",
              "0    14781\n",
              "Name: age_group_encoded, dtype: int64"
            ]
          },
          "metadata": {
            "tags": []
          },
          "execution_count": 11
        }
      ]
    },
    {
      "cell_type": "markdown",
      "metadata": {
        "id": "YopnmQj-z7df"
      },
      "source": [
        "Create two new columns called `death_yn_encoded` and `medcond_yn_encoded` by encoding the values of the `death_yn` and `medcond_yn` columns. \n",
        "\n",
        "For each column, encode \"Yes\" as `1` and \"No\" as `0`."
      ]
    },
    {
      "cell_type": "code",
      "metadata": {
        "id": "lLgfXMgqzo9J"
      },
      "source": [
        "# Encode the columns\n",
        "filtered['death_yn_encoded'] = filtered['death_yn'].map({\n",
        "    'Yes': 1,\n",
        "    'No': 0\n",
        "})\n",
        "\n",
        "filtered['medcond_yn_encoded'] = filtered['medcond_yn'].map({\n",
        "    'Yes': 1,\n",
        "    'No': 0\n",
        "})"
      ],
      "execution_count": 12,
      "outputs": []
    },
    {
      "cell_type": "markdown",
      "metadata": {
        "id": "oJ93umb_0btm"
      },
      "source": [
        "Now that you've encoded the textual features, the following code passes the data to the classifier to \"train\" or \"fit\" the model, allowing it to make predictions.\n",
        "\n",
        "* The first parameter to the `fit()` function is called \"X\" and is the set of features we want to use to make our predictions. In our case, that is age group, and pre-existing medical condition status.\n",
        "\n",
        "* The second parameter is called \"Y\" and is the target feature we're trying to predict. In our case, that is whether or not the patient died.\n",
        "\n",
        "Nearly all SciKit Learn algorithms follow this pattern."
      ]
    },
    {
      "cell_type": "code",
      "metadata": {
        "id": "YLZc-h1jzsXF",
        "outputId": "ac7a23f0-93c3-42c9-d57e-c0fcecc56aee",
        "colab": {
          "base_uri": "https://localhost:8080/",
          "height": 34
        }
      },
      "source": [
        "# Fit the data to the model\n",
        "# Again, this code assumes your filtered data is stored in a variable called\n",
        "# filtered. If not, update this code accordingly\n",
        "classifier.fit( filtered[ ['age_group_encoded', 'medcond_yn_encoded'] ], filtered['death_yn_encoded'])"
      ],
      "execution_count": 13,
      "outputs": [
        {
          "output_type": "execute_result",
          "data": {
            "text/plain": [
              "GaussianNB(priors=None, var_smoothing=1e-09)"
            ]
          },
          "metadata": {
            "tags": []
          },
          "execution_count": 13
        }
      ]
    },
    {
      "cell_type": "markdown",
      "metadata": {
        "id": "5Oh1fAAA1RkN"
      },
      "source": [
        "### Make Predictions\n",
        "Now that the model is trained, it's time to use it to make predictions. To do so, we can either use:\n",
        "\n",
        "* The [`predict()`](https://scikit-learn.org/stable/modules/generated/sklearn.naive_bayes.GaussianNB.html#sklearn.naive_bayes.GaussianNB.predict) function, which in this case would tell us which event is most likely to occur.\n",
        "* The [`predict_proba()`](https://scikit-learn.org/stable/modules/generated/sklearn.naive_bayes.GaussianNB.html#sklearn.naive_bayes.GaussianNB.predict_proba) function, which tells us the probability that each event would occur.\n",
        "\n",
        "Since our research director wants to know the probabilities, we'll use the second option.\n",
        "\n",
        "For each prediction we want to make, we would pass the classifier one sample (row) of data contanining *encoded* values for the features it knows about.\n",
        "\n",
        "The following code shows how we could build a Pandas DataFrame to pass to the `predict_proba()` function:\n",
        "\n"
      ]
    },
    {
      "cell_type": "code",
      "metadata": {
        "id": "zDbMzVY81FMe",
        "outputId": "526bd0bb-18f0-4a9f-a282-785f94d95da4",
        "colab": {
          "base_uri": "https://localhost:8080/",
          "height": 80
        }
      },
      "source": [
        "# Let's set the display to show floating decimal precision\n",
        "# to 5 places so we avoid scientific notation\n",
        "pd.options.display.float_format = '{:.5f}'.format\n",
        "\n",
        "# Create a data frame with one sample\n",
        "# Note that we build this by specifying the column name, then an \n",
        "# array of values that would go down that column.\n",
        "#\n",
        "# age_group_encoded | medcond_yn_encoded\n",
        "# --------------------------------------\n",
        "#          2        |          0        \n",
        "\n",
        "to_predict = pd.DataFrame({\n",
        "    \"age_group_encoded\": [2], # A 20 - 29 year old\n",
        "    \"medcond_yn_encoded\": [0] # With no pre-existing medical conditions\n",
        "})\n",
        "\n",
        "# Wrap the results in a new Pandas data frame and display it\n",
        "prediction = pd.DataFrame(classifier.predict_proba( to_predict ))\n",
        "\n",
        "# Each row in the results is the prediction corresponding to the same row in\n",
        "# our to_predict data frame. \n",
        "#\n",
        "# The first column is the probability of 0 (No) for death_yn. \n",
        "# The second is the probability of 1 (Yes) for death_yn.\n",
        "prediction"
      ],
      "execution_count": 14,
      "outputs": [
        {
          "output_type": "execute_result",
          "data": {
            "text/html": [
              "<div>\n",
              "<style scoped>\n",
              "    .dataframe tbody tr th:only-of-type {\n",
              "        vertical-align: middle;\n",
              "    }\n",
              "\n",
              "    .dataframe tbody tr th {\n",
              "        vertical-align: top;\n",
              "    }\n",
              "\n",
              "    .dataframe thead th {\n",
              "        text-align: right;\n",
              "    }\n",
              "</style>\n",
              "<table border=\"1\" class=\"dataframe\">\n",
              "  <thead>\n",
              "    <tr style=\"text-align: right;\">\n",
              "      <th></th>\n",
              "      <th>0</th>\n",
              "      <th>1</th>\n",
              "    </tr>\n",
              "  </thead>\n",
              "  <tbody>\n",
              "    <tr>\n",
              "      <th>0</th>\n",
              "      <td>1.00000</td>\n",
              "      <td>0.00000</td>\n",
              "    </tr>\n",
              "  </tbody>\n",
              "</table>\n",
              "</div>"
            ],
            "text/plain": [
              "        0       1\n",
              "0 1.00000 0.00000"
            ]
          },
          "metadata": {
            "tags": []
          },
          "execution_count": 14
        }
      ]
    },
    {
      "cell_type": "code",
      "metadata": {
        "id": "oHGD-SW2Oaw-",
        "outputId": "4f2ccd80-7d41-44ad-f5eb-eb3367322d7f",
        "colab": {
          "base_uri": "https://localhost:8080/",
          "height": 142
        }
      },
      "source": [
        "\n",
        "# Create a data frame with multiple samples. \n",
        "# Note that we build these by specifying the column name, then an \n",
        "# array of values that would go down that column.\n",
        "#\n",
        "# age_group_encoded | medcond_yn_encoded\n",
        "# --------------------------------------\n",
        "#          2        |          0        \n",
        "#          2        |          1        \n",
        "#          5        |          1        \n",
        "to_predict = pd.DataFrame({\n",
        "    \"age_group_encoded\": [2, 2, 5], # Age groups: 20 - 29, 20 - 29, 50 - 59\n",
        "    \"medcond_yn_encoded\": [0, 1, 1] # Pre-existing medical conditions: No, Yes, Yes\n",
        "})\n",
        "\n",
        "# Pass the data frame to the model to get a prediction,\n",
        "# then wrap the results in a new Pandas data frame and display it.\n",
        "prediction = pd.DataFrame(classifier.predict_proba( to_predict ))\n",
        "\n",
        "# Each row in the results is the prediction corresponding to the same row in\n",
        "# our to_predict data frame. \n",
        "#\n",
        "# The first column is the probability of 0 (No) for death_yn. \n",
        "# The second is the probability of 1 (Yes) for death_yn.\n",
        "prediction"
      ],
      "execution_count": 15,
      "outputs": [
        {
          "output_type": "execute_result",
          "data": {
            "text/html": [
              "<div>\n",
              "<style scoped>\n",
              "    .dataframe tbody tr th:only-of-type {\n",
              "        vertical-align: middle;\n",
              "    }\n",
              "\n",
              "    .dataframe tbody tr th {\n",
              "        vertical-align: top;\n",
              "    }\n",
              "\n",
              "    .dataframe thead th {\n",
              "        text-align: right;\n",
              "    }\n",
              "</style>\n",
              "<table border=\"1\" class=\"dataframe\">\n",
              "  <thead>\n",
              "    <tr style=\"text-align: right;\">\n",
              "      <th></th>\n",
              "      <th>0</th>\n",
              "      <th>1</th>\n",
              "    </tr>\n",
              "  </thead>\n",
              "  <tbody>\n",
              "    <tr>\n",
              "      <th>0</th>\n",
              "      <td>1.00000</td>\n",
              "      <td>0.00000</td>\n",
              "    </tr>\n",
              "    <tr>\n",
              "      <th>1</th>\n",
              "      <td>0.99923</td>\n",
              "      <td>0.00077</td>\n",
              "    </tr>\n",
              "    <tr>\n",
              "      <th>2</th>\n",
              "      <td>0.75364</td>\n",
              "      <td>0.24636</td>\n",
              "    </tr>\n",
              "  </tbody>\n",
              "</table>\n",
              "</div>"
            ],
            "text/plain": [
              "        0       1\n",
              "0 1.00000 0.00000\n",
              "1 0.99923 0.00077\n",
              "2 0.75364 0.24636"
            ]
          },
          "metadata": {
            "tags": []
          },
          "execution_count": 15
        }
      ]
    },
    {
      "cell_type": "markdown",
      "metadata": {
        "id": "A_l047My3cmC"
      },
      "source": [
        "For each of the following situations, use the classifier's `predict_proba()` function to predict the probability that a patient will die from Covid-19.\n",
        "\n",
        "* A 25 year-old with no pre-existing medical conditions.\n",
        "* A 25 year-old with pre-existing medical conditions.\n",
        "* A 55 year-old with no pre-existing medical conditions.\n",
        "* A 55 year-old with pre-existing medical conditions.\n",
        "* An 80 year-old with no pre-existing medical conditions.\n",
        "* An 80 year-old with pre-existing medical conditions.\n",
        "\n",
        "Note that you can make these predictions one at a time, or all at once by passing multiple sets of data to the classifier. The results will be returned in the same order as the sample data provided."
      ]
    },
    {
      "cell_type": "code",
      "metadata": {
        "id": "9qCeuZEg2ot7",
        "outputId": "79d9fb89-48f7-47ab-d332-a1cbb4a2e039",
        "colab": {
          "base_uri": "https://localhost:8080/",
          "height": 235
        }
      },
      "source": [
        "# Make the requested predictions\n",
        "to_predict = pd.DataFrame({\n",
        "    \"age_group_encoded\": [2, 2, 5, 5, 8, 8], # Age groups\n",
        "    \"medcond_yn_encoded\": [0, 1, 0, 1, 0, 1] # Pre-existing medical conditions\n",
        "})\n",
        "\n",
        "prediction = pd.DataFrame(classifier.predict_proba(to_predict) )\n",
        "prediction\n"
      ],
      "execution_count": 16,
      "outputs": [
        {
          "output_type": "execute_result",
          "data": {
            "text/html": [
              "<div>\n",
              "<style scoped>\n",
              "    .dataframe tbody tr th:only-of-type {\n",
              "        vertical-align: middle;\n",
              "    }\n",
              "\n",
              "    .dataframe tbody tr th {\n",
              "        vertical-align: top;\n",
              "    }\n",
              "\n",
              "    .dataframe thead th {\n",
              "        text-align: right;\n",
              "    }\n",
              "</style>\n",
              "<table border=\"1\" class=\"dataframe\">\n",
              "  <thead>\n",
              "    <tr style=\"text-align: right;\">\n",
              "      <th></th>\n",
              "      <th>0</th>\n",
              "      <th>1</th>\n",
              "    </tr>\n",
              "  </thead>\n",
              "  <tbody>\n",
              "    <tr>\n",
              "      <th>0</th>\n",
              "      <td>1.00000</td>\n",
              "      <td>0.00000</td>\n",
              "    </tr>\n",
              "    <tr>\n",
              "      <th>1</th>\n",
              "      <td>0.99923</td>\n",
              "      <td>0.00077</td>\n",
              "    </tr>\n",
              "    <tr>\n",
              "      <th>2</th>\n",
              "      <td>1.00000</td>\n",
              "      <td>0.00000</td>\n",
              "    </tr>\n",
              "    <tr>\n",
              "      <th>3</th>\n",
              "      <td>0.75364</td>\n",
              "      <td>0.24636</td>\n",
              "    </tr>\n",
              "    <tr>\n",
              "      <th>4</th>\n",
              "      <td>1.00000</td>\n",
              "      <td>0.00000</td>\n",
              "    </tr>\n",
              "    <tr>\n",
              "      <th>5</th>\n",
              "      <td>0.14618</td>\n",
              "      <td>0.85382</td>\n",
              "    </tr>\n",
              "  </tbody>\n",
              "</table>\n",
              "</div>"
            ],
            "text/plain": [
              "        0       1\n",
              "0 1.00000 0.00000\n",
              "1 0.99923 0.00077\n",
              "2 1.00000 0.00000\n",
              "3 0.75364 0.24636\n",
              "4 1.00000 0.00000\n",
              "5 0.14618 0.85382"
            ]
          },
          "metadata": {
            "tags": []
          },
          "execution_count": 16
        }
      ]
    },
    {
      "cell_type": "markdown",
      "metadata": {
        "id": "pZzZXBPM4Mkl"
      },
      "source": [
        "# Part 5: Conclusions\n",
        "\n",
        "Based on your results, what conclusions would your provide to your research manager to pass along to the health authority? What caveats about the analysis would you include? Is this model accurate? How could you test that?\n",
        "\n",
        "Given what you know about Bayesian models from the reading, why might the model predict that an 80 year old with no pre-existing conditions would have a 100% probability of survival?"
      ]
    },
    {
      "cell_type": "markdown",
      "metadata": {
        "id": "Ma3zcRcZ4XDs"
      },
      "source": [
        "Based on the available data, it appears that a 20 - 29-year-old who contracts Covid-19, with or without pre-existing medical conditions, has a greater than 99.99% chance of surviving.\n",
        "\n",
        "The greatest risk is for those 80 and older with preexisting medical condition. According to the data, the odds of an 80-year-old with a pre-existing medical condition dying after contracting Covid-19 is over 85%.\n",
        "\n",
        "3,000,000 cases were evaluated, but the data is in surprisingly poor shape for such important medical information. After removing cases where the medical history, age, and resultant mortality was unknown, just over 482,000 cases remained. \n",
        "\n",
        "Additional analysis should be done to evaluate the difference gender makes in the analysis, as well as to handle the difference between \"probable\" and \"laboratory confirmed\" cases.\n",
        "\n",
        "It's also possible that the time of year played a role in the results. For example, cases earlier in the pandemic being may have been more severe than those later in the pandemic, especially among the vulnerable populations. This could mean that the risk of death today is different than the risk of death at the start of the pandemic for the same demographics.\n",
        "\n",
        "Finally, no analysis was done on the likelihood of an infection resulting in hospitalization and/or ICU visits, something of primary importance to many health authorities.\n",
        "\n",
        "Additional verification of the model should be done to test the accuracy of its predictions. One strategy could be to hold back some of the data when we build the model, then have it make predictions about the held back data and see how often it got those predictions right.\n"
      ]
    },
    {
      "cell_type": "markdown",
      "metadata": {
        "id": "YXdttP20-MuX"
      },
      "source": [
        "## 🌟 Above and Beyond 🌟\n",
        "\n",
        "The research director would like you to answer the following questions:\n",
        "\n",
        "* How does gender affect the probability of death from Covid-19?\n",
        "* If we look at likelihood of being admitted to the ICU instead of the likelihood of death, what are the probabilties across different age groups and medical statuses?\n",
        "* How do the probabilities you calculated compare to the probabilties you would get if you looked only at the last three months worth of cases? You may need to review the Pandas tutorial on [How to Handle Timeseries Data](https://pandas.pydata.org/pandas-docs/stable/getting_started/intro_tutorials/09_timeseries.html).\n",
        "* SciKit Learn has [several different Bayesian classifiers](https://scikit-learn.org/stable/modules/naive_bayes.html). Would a different classifier produce better results? How could you test that hypothesis?"
      ]
    }
  ]
}